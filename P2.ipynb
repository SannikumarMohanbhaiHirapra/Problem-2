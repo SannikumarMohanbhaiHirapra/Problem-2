{
 "cells": [
  {
   "cell_type": "markdown",
   "id": "a5dbbca1",
   "metadata": {},
   "source": [
    "<h4><font color=\"purple\"> Introduction </font> </h4>"
   ]
  },
  {
   "cell_type": "code",
   "execution_count": 51,
   "id": "e63f27b2",
   "metadata": {},
   "outputs": [],
   "source": [
    "import csv\n",
    "import os\n",
    "import pandas as pd\n",
    "import matplotlib as plt\n",
    "import matplotlib.pyplot as plt"
   ]
  },
  {
   "cell_type": "markdown",
   "id": "387343f0",
   "metadata": {},
   "source": [
    "<h4><font color=\"purple\"> Data Resource </font> </h4>"
   ]
  },
  {
   "cell_type": "markdown",
   "id": "1ed6d957",
   "metadata": {},
   "source": [
    "https://www.census.gov/programs-surveys/popest/technical-documentation/research/evaluation-estimates/2020-evaluation-estimates/2010s-totals-national.html"
   ]
  },
  {
   "cell_type": "markdown",
   "id": "dfe8634e",
   "metadata": {},
   "source": [
    "<h4><font color=\"purple\"> Insert Data From US Census Bureau </font> </h4>"
   ]
  },
  {
   "cell_type": "code",
   "execution_count": 53,
   "id": "fe5c452f",
   "metadata": {},
   "outputs": [],
   "source": [
    "fields = ['Year', 'Population']\n",
    "data = [ ['2010', '309327143'], \n",
    "         ['2011', '311583481'], \n",
    "         ['2012', '313877662'], \n",
    "         ['2013', '316059947'], \n",
    "         ['2014', '318386329'], \n",
    "         ['2015', '320738994'],\n",
    "         ['2016', '323071755'],\n",
    "         ['2017', '325122128'],\n",
    "         ['2018', '326838199'],\n",
    "         ['2019', '328329953'],\n",
    "         ['2020', '329484123']] "
   ]
  },
  {
   "cell_type": "markdown",
   "id": "b6ffee46",
   "metadata": {},
   "source": [
    "<h4><font color=\"purple\"> Making Csv file </font> </h4>"
   ]
  },
  {
   "cell_type": "code",
   "execution_count": 34,
   "id": "b9f14917",
   "metadata": {},
   "outputs": [],
   "source": [
    "filename = \"P3.csv\""
   ]
  },
  {
   "cell_type": "code",
   "execution_count": 37,
   "id": "d4beab1f",
   "metadata": {},
   "outputs": [],
   "source": [
    "with open(filename, 'w') as csvfile:\n",
    "    csvwriter = csv.writer(csvfile)\n",
    "    csvwriter.writerow(fields)\n",
    "    csvwriter.writerows(data)"
   ]
  },
  {
   "cell_type": "markdown",
   "id": "db0629fc",
   "metadata": {},
   "source": [
    "Read csv file  <h4><font color=\"purple\"> Data Resource </font> </h4>"
   ]
  },
  {
   "cell_type": "code",
   "execution_count": 38,
   "id": "ca12f356",
   "metadata": {},
   "outputs": [],
   "source": [
    "path = 'C://Users//sanni//Downloads' # Insert the directorie of file\n",
    "os.chdir(path)\n",
    "fname='P3.csv'\n",
    "a=pd.read_csv(fname)"
   ]
  },
  {
   "cell_type": "code",
   "execution_count": 39,
   "id": "91268146",
   "metadata": {},
   "outputs": [
    {
     "data": {
      "text/html": [
       "<div>\n",
       "<style scoped>\n",
       "    .dataframe tbody tr th:only-of-type {\n",
       "        vertical-align: middle;\n",
       "    }\n",
       "\n",
       "    .dataframe tbody tr th {\n",
       "        vertical-align: top;\n",
       "    }\n",
       "\n",
       "    .dataframe thead th {\n",
       "        text-align: right;\n",
       "    }\n",
       "</style>\n",
       "<table border=\"1\" class=\"dataframe\">\n",
       "  <thead>\n",
       "    <tr style=\"text-align: right;\">\n",
       "      <th></th>\n",
       "      <th>Year</th>\n",
       "      <th>Population</th>\n",
       "    </tr>\n",
       "  </thead>\n",
       "  <tbody>\n",
       "    <tr>\n",
       "      <th>0</th>\n",
       "      <td>2010</td>\n",
       "      <td>309327143</td>\n",
       "    </tr>\n",
       "    <tr>\n",
       "      <th>1</th>\n",
       "      <td>2011</td>\n",
       "      <td>311583481</td>\n",
       "    </tr>\n",
       "    <tr>\n",
       "      <th>2</th>\n",
       "      <td>2012</td>\n",
       "      <td>313877662</td>\n",
       "    </tr>\n",
       "    <tr>\n",
       "      <th>3</th>\n",
       "      <td>2013</td>\n",
       "      <td>316059947</td>\n",
       "    </tr>\n",
       "    <tr>\n",
       "      <th>4</th>\n",
       "      <td>2014</td>\n",
       "      <td>318386329</td>\n",
       "    </tr>\n",
       "    <tr>\n",
       "      <th>5</th>\n",
       "      <td>2015</td>\n",
       "      <td>320738994</td>\n",
       "    </tr>\n",
       "    <tr>\n",
       "      <th>6</th>\n",
       "      <td>2016</td>\n",
       "      <td>323071755</td>\n",
       "    </tr>\n",
       "    <tr>\n",
       "      <th>7</th>\n",
       "      <td>2017</td>\n",
       "      <td>325122128</td>\n",
       "    </tr>\n",
       "    <tr>\n",
       "      <th>8</th>\n",
       "      <td>2018</td>\n",
       "      <td>326838199</td>\n",
       "    </tr>\n",
       "    <tr>\n",
       "      <th>9</th>\n",
       "      <td>2019</td>\n",
       "      <td>328329953</td>\n",
       "    </tr>\n",
       "    <tr>\n",
       "      <th>10</th>\n",
       "      <td>2020</td>\n",
       "      <td>329484123</td>\n",
       "    </tr>\n",
       "  </tbody>\n",
       "</table>\n",
       "</div>"
      ],
      "text/plain": [
       "    Year  Population\n",
       "0   2010   309327143\n",
       "1   2011   311583481\n",
       "2   2012   313877662\n",
       "3   2013   316059947\n",
       "4   2014   318386329\n",
       "5   2015   320738994\n",
       "6   2016   323071755\n",
       "7   2017   325122128\n",
       "8   2018   326838199\n",
       "9   2019   328329953\n",
       "10  2020   329484123"
      ]
     },
     "execution_count": 39,
     "metadata": {},
     "output_type": "execute_result"
    }
   ],
   "source": [
    "a"
   ]
  },
  {
   "cell_type": "markdown",
   "id": "b3522987",
   "metadata": {},
   "source": [
    "<h4><font color=\"purple\"> Make Bar Graph </font> </h4>"
   ]
  },
  {
   "cell_type": "code",
   "execution_count": 42,
   "id": "8be5a6d5",
   "metadata": {},
   "outputs": [],
   "source": [
    "X=a.Year\n",
    "Y=a.Population"
   ]
  },
  {
   "cell_type": "code",
   "execution_count": 50,
   "id": "a3325e12",
   "metadata": {},
   "outputs": [
    {
     "data": {
      "text/plain": [
       "Text(0, 0.5, 'Population')"
      ]
     },
     "execution_count": 50,
     "metadata": {},
     "output_type": "execute_result"
    },
    {
     "data": {
      "image/png": "[encoded data removed]",
      "text/plain": [
       "<Figure size 640x480 with 1 Axes>"
      ]
     },
     "metadata": {},
     "output_type": "display_data"
    }
   ],
   "source": [
    "ax=plt.bar(X, Y, color='red')\n",
    "plt.title(\"Population Versus Year\")\n",
    "plt.xlabel(\"Years\")\n",
    "plt.ylabel(\"Population\")"
   ]
  },
  {
   "cell_type": "code",
   "execution_count": null,
   "id": "8262b235",
   "metadata": {},
   "outputs": [],
   "source": []
  }
 ],
 "metadata": {
  "kernelspec": {
   "display_name": "Python 3 (ipykernel)",
   "language": "python",
   "name": "python3"
  },
  "language_info": {
   "codemirror_mode": {
    "name": "ipython",
    "version": 3
   },
   "file_extension": ".py",
   "mimetype": "text/x-python",
   "name": "python",
   "nbconvert_exporter": "python",
   "pygments_lexer": "ipython3",
   "version": "3.9.13"
  }
 },
 "nbformat": 4,
 "nbformat_minor": 5
}

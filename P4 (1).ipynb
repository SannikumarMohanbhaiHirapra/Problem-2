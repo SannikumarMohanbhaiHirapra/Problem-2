{
 "cells": [
  {
   "cell_type": "code",
   "execution_count": 9,
   "id": "f93ed3b7",
   "metadata": {},
   "outputs": [],
   "source": [
    "import numpy as np"
   ]
  },
  {
   "cell_type": "code",
   "execution_count": 13,
   "id": "4465f3b7",
   "metadata": {},
   "outputs": [],
   "source": [
    "E=200000\n",
    "I=81960000\n",
    "L=25000\n",
    "q=250\n",
    "a=25000\n",
    "b=1000"
   ]
  },
  {
   "cell_type": "code",
   "execution_count": 14,
   "id": "36efb57b",
   "metadata": {},
   "outputs": [],
   "source": [
    "delta_2= ((F*a^3)/8*E*I)*(1+(3*a/2*b))\n",
    "delta_1= (q*L^4)/(8*E*I)"
   ]
  },
  {
   "cell_type": "code",
   "execution_count": null,
   "id": "e596af6c",
   "metadata": {},
   "outputs": [],
   "source": []
  }
 ],
 "metadata": {
  "kernelspec": {
   "display_name": "Python 3 (ipykernel)",
   "language": "python",
   "name": "python3"
  },
  "language_info": {
   "codemirror_mode": {
    "name": "ipython",
    "version": 3
   },
   "file_extension": ".py",
   "mimetype": "text/x-python",
   "name": "python",
   "nbconvert_exporter": "python",
   "pygments_lexer": "ipython3",
   "version": "3.9.13"
  }
 },
 "nbformat": 4,
 "nbformat_minor": 5
}
